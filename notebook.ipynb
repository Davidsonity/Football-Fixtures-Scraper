{
 "cells": [
  {
   "cell_type": "markdown",
   "id": "da144960-7e6f-4f2c-9699-1d3060fbe221",
   "metadata": {},
   "source": [
    "# Football Fixtures Scraper"
   ]
  },
  {
   "cell_type": "code",
   "execution_count": 1,
   "id": "e4c83bd6-9144-42f3-b408-07f4dbbc7dcc",
   "metadata": {},
   "outputs": [],
   "source": [
    "import pandas as pd\n",
    "import numpy as np\n",
    "import requests\n",
    "from bs4 import BeautifulSoup\n",
    "import time\n",
    "import json\n",
    "\n",
    "import warnings\n",
    "warnings.filterwarnings('ignore')"
   ]
  },
  {
   "cell_type": "code",
   "execution_count": 2,
   "id": "2543b68d-3a75-4772-ba6e-631b3cbb0a68",
   "metadata": {},
   "outputs": [],
   "source": [
    "# Opening JSON file\n",
    "with open('teams_demo.json') as json_file:\n",
    "    team_dict = json.load(json_file)\n",
    "\n",
    "team_df = pd.DataFrame.from_dict(team_dict)"
   ]
  },
  {
   "cell_type": "code",
   "execution_count": 3,
   "id": "52e7826c-1f41-4662-8415-6c581cf2f6f5",
   "metadata": {},
   "outputs": [
    {
     "data": {
      "text/html": [
       "<div>\n",
       "<style scoped>\n",
       "    .dataframe tbody tr th:only-of-type {\n",
       "        vertical-align: middle;\n",
       "    }\n",
       "\n",
       "    .dataframe tbody tr th {\n",
       "        vertical-align: top;\n",
       "    }\n",
       "\n",
       "    .dataframe thead th {\n",
       "        text-align: right;\n",
       "    }\n",
       "</style>\n",
       "<table border=\"1\" class=\"dataframe\">\n",
       "  <thead>\n",
       "    <tr style=\"text-align: right;\">\n",
       "      <th></th>\n",
       "      <th>Country</th>\n",
       "      <th>League</th>\n",
       "      <th>Team</th>\n",
       "      <th>url</th>\n",
       "    </tr>\n",
       "  </thead>\n",
       "  <tbody>\n",
       "    <tr>\n",
       "      <th>0</th>\n",
       "      <td>England</td>\n",
       "      <td>Premier League</td>\n",
       "      <td>Arsenal</td>\n",
       "      <td>https://ng.soccerway.com//teams/england/arsena...</td>\n",
       "    </tr>\n",
       "    <tr>\n",
       "      <th>1</th>\n",
       "      <td>England</td>\n",
       "      <td>Premier League</td>\n",
       "      <td>Manchester City</td>\n",
       "      <td>https://ng.soccerway.com//teams/england/manche...</td>\n",
       "    </tr>\n",
       "    <tr>\n",
       "      <th>2</th>\n",
       "      <td>England</td>\n",
       "      <td>Premier League</td>\n",
       "      <td>Newcastle United</td>\n",
       "      <td>https://ng.soccerway.com//teams/england/newcas...</td>\n",
       "    </tr>\n",
       "    <tr>\n",
       "      <th>3</th>\n",
       "      <td>England</td>\n",
       "      <td>Premier League</td>\n",
       "      <td>Manchester United</td>\n",
       "      <td>https://ng.soccerway.com//teams/england/manche...</td>\n",
       "    </tr>\n",
       "    <tr>\n",
       "      <th>4</th>\n",
       "      <td>England</td>\n",
       "      <td>Premier League</td>\n",
       "      <td>Tottenham Hotspur</td>\n",
       "      <td>https://ng.soccerway.com//teams/england/totten...</td>\n",
       "    </tr>\n",
       "    <tr>\n",
       "      <th>...</th>\n",
       "      <td>...</td>\n",
       "      <td>...</td>\n",
       "      <td>...</td>\n",
       "      <td>...</td>\n",
       "    </tr>\n",
       "    <tr>\n",
       "      <th>93</th>\n",
       "      <td>Spain</td>\n",
       "      <td>La Liga</td>\n",
       "      <td>Getafe</td>\n",
       "      <td>https://ng.soccerway.com//teams/spain/getafe-c...</td>\n",
       "    </tr>\n",
       "    <tr>\n",
       "      <th>94</th>\n",
       "      <td>Spain</td>\n",
       "      <td>La Liga</td>\n",
       "      <td>Celta Vigo</td>\n",
       "      <td>https://ng.soccerway.com//teams/spain/real-clu...</td>\n",
       "    </tr>\n",
       "    <tr>\n",
       "      <th>95</th>\n",
       "      <td>Spain</td>\n",
       "      <td>La Liga</td>\n",
       "      <td>Real Valladolid</td>\n",
       "      <td>https://ng.soccerway.com//teams/spain/real-val...</td>\n",
       "    </tr>\n",
       "    <tr>\n",
       "      <th>96</th>\n",
       "      <td>Spain</td>\n",
       "      <td>La Liga</td>\n",
       "      <td>Cadiz</td>\n",
       "      <td>https://ng.soccerway.com//teams/spain/cadiz-cl...</td>\n",
       "    </tr>\n",
       "    <tr>\n",
       "      <th>97</th>\n",
       "      <td>Spain</td>\n",
       "      <td>La Liga</td>\n",
       "      <td>Elche</td>\n",
       "      <td>https://ng.soccerway.com//teams/spain/elche-cl...</td>\n",
       "    </tr>\n",
       "  </tbody>\n",
       "</table>\n",
       "<p>98 rows × 4 columns</p>\n",
       "</div>"
      ],
      "text/plain": [
       "    Country          League               Team  \\\n",
       "0   England  Premier League            Arsenal   \n",
       "1   England  Premier League    Manchester City   \n",
       "2   England  Premier League   Newcastle United   \n",
       "3   England  Premier League  Manchester United   \n",
       "4   England  Premier League  Tottenham Hotspur   \n",
       "..      ...             ...                ...   \n",
       "93    Spain         La Liga             Getafe   \n",
       "94    Spain         La Liga         Celta Vigo   \n",
       "95    Spain         La Liga    Real Valladolid   \n",
       "96    Spain         La Liga              Cadiz   \n",
       "97    Spain         La Liga              Elche   \n",
       "\n",
       "                                                  url  \n",
       "0   https://ng.soccerway.com//teams/england/arsena...  \n",
       "1   https://ng.soccerway.com//teams/england/manche...  \n",
       "2   https://ng.soccerway.com//teams/england/newcas...  \n",
       "3   https://ng.soccerway.com//teams/england/manche...  \n",
       "4   https://ng.soccerway.com//teams/england/totten...  \n",
       "..                                                ...  \n",
       "93  https://ng.soccerway.com//teams/spain/getafe-c...  \n",
       "94  https://ng.soccerway.com//teams/spain/real-clu...  \n",
       "95  https://ng.soccerway.com//teams/spain/real-val...  \n",
       "96  https://ng.soccerway.com//teams/spain/cadiz-cl...  \n",
       "97  https://ng.soccerway.com//teams/spain/elche-cl...  \n",
       "\n",
       "[98 rows x 4 columns]"
      ]
     },
     "execution_count": 3,
     "metadata": {},
     "output_type": "execute_result"
    }
   ],
   "source": [
    "team_df"
   ]
  },
  {
   "cell_type": "code",
   "execution_count": 4,
   "id": "6215b1de-962c-496c-907e-1c3876e9ab73",
   "metadata": {},
   "outputs": [],
   "source": [
    "team = 'Arsenal'\n",
    "league = 'Premier League'\n",
    "header = 'Mozilla/5.0 (Windows NT 10.0; Windows; x64) AppleWebKit/537.36 (KHTML, like Gecko) Chrome/103.0.5060.114 Safari/537.36'"
   ]
  },
  {
   "cell_type": "code",
   "execution_count": 5,
   "id": "f4283d20-3788-4e7e-b5bb-be47ffb2839d",
   "metadata": {},
   "outputs": [],
   "source": [
    "url = team_df[(team_df['Team'] == team) & (team_df['League'] == league)]['url'].values[0]\n",
    "response = requests.get(url, headers={'User-Agent': header})"
   ]
  },
  {
   "cell_type": "code",
   "execution_count": 8,
   "id": "157ee883-26ad-4792-b8ae-74b6650a8823",
   "metadata": {},
   "outputs": [
    {
     "data": {
      "text/plain": [
       "'https://ng.soccerway.com//teams/england/arsenal-fc/660/'"
      ]
     },
     "execution_count": 8,
     "metadata": {},
     "output_type": "execute_result"
    }
   ],
   "source": [
    "url"
   ]
  },
  {
   "cell_type": "code",
   "execution_count": 6,
   "id": "1a58b73b-a77e-497c-95d4-015d6d545a69",
   "metadata": {},
   "outputs": [
    {
     "data": {
      "text/plain": [
       "<Response [200]>"
      ]
     },
     "execution_count": 6,
     "metadata": {},
     "output_type": "execute_result"
    }
   ],
   "source": [
    "response"
   ]
  },
  {
   "cell_type": "code",
   "execution_count": 7,
   "id": "d2e716b6-71a6-4cc7-b743-8c786ef6236d",
   "metadata": {},
   "outputs": [],
   "source": [
    "soup = BeautifulSoup(response.text, 'html.parser')\n",
    "table = soup.find_all('table', class_='matches')"
   ]
  },
  {
   "cell_type": "markdown",
   "id": "c2403d25-dc21-4af1-9536-a130620688ae",
   "metadata": {},
   "source": [
    "#### Get Dates"
   ]
  },
  {
   "cell_type": "code",
   "execution_count": 117,
   "id": "94b7adf6-1ca4-44f4-8b7b-367a5784edb2",
   "metadata": {},
   "outputs": [
    {
     "data": {
      "text/plain": [
       "'31/12/22'"
      ]
     },
     "execution_count": 117,
     "metadata": {},
     "output_type": "execute_result"
    }
   ],
   "source": [
    "table[0].find_all('td', class_ = \"full-date\")[0].text"
   ]
  },
  {
   "cell_type": "code",
   "execution_count": 118,
   "id": "2b147c44-7b0e-4f70-9d04-3328a319a752",
   "metadata": {},
   "outputs": [
    {
     "data": {
      "text/plain": [
       "['31/12/22',\n",
       " '03/01/23',\n",
       " '09/01/23',\n",
       " '15/01/23',\n",
       " '22/01/23',\n",
       " '27/01/23',\n",
       " '04/02/23',\n",
       " '11/02/23',\n",
       " '15/02/23',\n",
       " '18/02/23']"
      ]
     },
     "execution_count": 118,
     "metadata": {},
     "output_type": "execute_result"
    }
   ],
   "source": [
    "dates = [row.text for row in table[0].find_all('td', class_ = \"full-date\")]\n",
    "dates"
   ]
  },
  {
   "cell_type": "markdown",
   "id": "1cd19634-0f4a-44d9-b25a-b3ddbb761348",
   "metadata": {},
   "source": [
    "#### Get League"
   ]
  },
  {
   "cell_type": "code",
   "execution_count": 119,
   "id": "86e02569-80ef-4d96-81b2-526a9f29cf53",
   "metadata": {},
   "outputs": [
    {
     "data": {
      "text/plain": [
       "'PRL'"
      ]
     },
     "execution_count": 119,
     "metadata": {},
     "output_type": "execute_result"
    }
   ],
   "source": [
    "table[0].find_all('td', class_=\"competition\")[1].text"
   ]
  },
  {
   "cell_type": "code",
   "execution_count": 120,
   "id": "d450e9a6-8603-4d68-82c8-780e1ef4fe1e",
   "metadata": {},
   "outputs": [
    {
     "data": {
      "text/plain": [
       "['PRL', 'PRL', 'FAC', 'PRL', 'PRL', 'FAC', 'PRL', 'PRL', 'PRL', 'PRL']"
      ]
     },
     "execution_count": 120,
     "metadata": {},
     "output_type": "execute_result"
    }
   ],
   "source": [
    "leagues = [row.text.strip() for row in table[0].find_all('td', class_=\"competition\")]\n",
    "leagues"
   ]
  },
  {
   "cell_type": "markdown",
   "id": "3ba507ba-fd4f-4047-b49e-ec291c2d9bc6",
   "metadata": {},
   "source": [
    "#### Get Home Team"
   ]
  },
  {
   "cell_type": "code",
   "execution_count": 121,
   "id": "068d90e0-d291-4365-a971-34ac8482c152",
   "metadata": {},
   "outputs": [
    {
     "data": {
      "text/plain": [
       "'Arsenal'"
      ]
     },
     "execution_count": 121,
     "metadata": {},
     "output_type": "execute_result"
    }
   ],
   "source": [
    "table[0].find_all('td', class_ = \"team\")[2].text.strip()"
   ]
  },
  {
   "cell_type": "code",
   "execution_count": 105,
   "id": "874aa181-d5a1-46ab-b681-34c571ef8da6",
   "metadata": {},
   "outputs": [
    {
     "data": {
      "text/plain": [
       "['Brighton & Hove Albion',\n",
       " 'Arsenal',\n",
       " 'Oxford United',\n",
       " 'Tottenham Hotspur',\n",
       " 'Arsenal',\n",
       " 'Manchester City',\n",
       " 'Everton',\n",
       " 'Arsenal',\n",
       " 'Arsenal',\n",
       " 'Aston Villa']"
      ]
     },
     "execution_count": 105,
     "metadata": {},
     "output_type": "execute_result"
    }
   ],
   "source": [
    "homes = [row.text.strip() for row in table[0].find_all('td', class_ = \"team\")[::2]]\n",
    "homes"
   ]
  },
  {
   "cell_type": "markdown",
   "id": "2edf3085-0e3d-42a2-b36c-dcea4d9d24a7",
   "metadata": {
    "tags": []
   },
   "source": [
    "#### Get Away Team"
   ]
  },
  {
   "cell_type": "code",
   "execution_count": 106,
   "id": "120a9f44-852f-487b-aa97-a56f6cf03f41",
   "metadata": {},
   "outputs": [
    {
     "data": {
      "text/plain": [
       "['Arsenal',\n",
       " 'Newcastle United',\n",
       " 'Arsenal',\n",
       " 'Arsenal',\n",
       " 'Manchester United',\n",
       " 'Arsenal',\n",
       " 'Arsenal',\n",
       " 'Brentford',\n",
       " 'Manchester City',\n",
       " 'Arsenal']"
      ]
     },
     "execution_count": 106,
     "metadata": {},
     "output_type": "execute_result"
    }
   ],
   "source": [
    "aways = [row.text.strip() for row in table[0].find_all('td', class_ = \"team\")[1::2]]\n",
    "aways"
   ]
  },
  {
   "cell_type": "markdown",
   "id": "cbd58120-e43a-42b0-bc8d-9300af641f6f",
   "metadata": {},
   "source": [
    "#### Get Score/Time"
   ]
  },
  {
   "cell_type": "code",
   "execution_count": 122,
   "id": "d7c7375d-696e-4d90-9a5c-a99e80b6227e",
   "metadata": {},
   "outputs": [
    {
     "data": {
      "text/plain": [
       "'0 - 2'"
      ]
     },
     "execution_count": 122,
     "metadata": {},
     "output_type": "execute_result"
    }
   ],
   "source": [
    "table[0].find_all('td', class_=\"score-time\")[3].text.strip()"
   ]
  },
  {
   "cell_type": "code",
   "execution_count": 123,
   "id": "f494ed36-014b-4e9e-a032-852974816101",
   "metadata": {},
   "outputs": [
    {
     "data": {
      "text/plain": [
       "['2 - 4',\n",
       " '0 - 0',\n",
       " '0 - 3',\n",
       " '0 - 2',\n",
       " '3 - 2',\n",
       " '21 : 00',\n",
       " '13 : 30',\n",
       " '16 : 00',\n",
       " '20 : 30',\n",
       " '13 : 30']"
      ]
     },
     "execution_count": 123,
     "metadata": {},
     "output_type": "execute_result"
    }
   ],
   "source": [
    "scores = [row.text.strip() for row in table[0].find_all('td', class_=\"score-time\")]\n",
    "scores"
   ]
  },
  {
   "cell_type": "code",
   "execution_count": 124,
   "id": "15fcbed2-f8c5-4a4b-b716-018f949bca4d",
   "metadata": {},
   "outputs": [],
   "source": [
    "# Create Empty dataframe\n",
    "df = pd.DataFrame({'Date': dates,\n",
    "                    'League': leagues,\n",
    "                    'Home team': homes,\n",
    "                    'Score': scores,\n",
    "                    'Away team': aways\n",
    "                    })"
   ]
  },
  {
   "cell_type": "code",
   "execution_count": 125,
   "id": "1147cc3f-964e-4104-b8bf-069b8f800feb",
   "metadata": {},
   "outputs": [
    {
     "data": {
      "text/html": [
       "<div>\n",
       "<style scoped>\n",
       "    .dataframe tbody tr th:only-of-type {\n",
       "        vertical-align: middle;\n",
       "    }\n",
       "\n",
       "    .dataframe tbody tr th {\n",
       "        vertical-align: top;\n",
       "    }\n",
       "\n",
       "    .dataframe thead th {\n",
       "        text-align: right;\n",
       "    }\n",
       "</style>\n",
       "<table border=\"1\" class=\"dataframe\">\n",
       "  <thead>\n",
       "    <tr style=\"text-align: right;\">\n",
       "      <th></th>\n",
       "      <th>Date</th>\n",
       "      <th>League</th>\n",
       "      <th>Home team</th>\n",
       "      <th>Score</th>\n",
       "      <th>Away team</th>\n",
       "    </tr>\n",
       "  </thead>\n",
       "  <tbody>\n",
       "    <tr>\n",
       "      <th>0</th>\n",
       "      <td>31/12/22</td>\n",
       "      <td>PRL</td>\n",
       "      <td>Brighton &amp; Hove Albion</td>\n",
       "      <td>2 - 4</td>\n",
       "      <td>Arsenal</td>\n",
       "    </tr>\n",
       "    <tr>\n",
       "      <th>1</th>\n",
       "      <td>03/01/23</td>\n",
       "      <td>PRL</td>\n",
       "      <td>Arsenal</td>\n",
       "      <td>0 - 0</td>\n",
       "      <td>Newcastle United</td>\n",
       "    </tr>\n",
       "    <tr>\n",
       "      <th>2</th>\n",
       "      <td>09/01/23</td>\n",
       "      <td>FAC</td>\n",
       "      <td>Oxford United</td>\n",
       "      <td>0 - 3</td>\n",
       "      <td>Arsenal</td>\n",
       "    </tr>\n",
       "    <tr>\n",
       "      <th>3</th>\n",
       "      <td>15/01/23</td>\n",
       "      <td>PRL</td>\n",
       "      <td>Tottenham Hotspur</td>\n",
       "      <td>0 - 2</td>\n",
       "      <td>Arsenal</td>\n",
       "    </tr>\n",
       "    <tr>\n",
       "      <th>4</th>\n",
       "      <td>22/01/23</td>\n",
       "      <td>PRL</td>\n",
       "      <td>Arsenal</td>\n",
       "      <td>3 - 2</td>\n",
       "      <td>Manchester United</td>\n",
       "    </tr>\n",
       "    <tr>\n",
       "      <th>5</th>\n",
       "      <td>27/01/23</td>\n",
       "      <td>FAC</td>\n",
       "      <td>Manchester City</td>\n",
       "      <td>21 : 00</td>\n",
       "      <td>Arsenal</td>\n",
       "    </tr>\n",
       "    <tr>\n",
       "      <th>6</th>\n",
       "      <td>04/02/23</td>\n",
       "      <td>PRL</td>\n",
       "      <td>Everton</td>\n",
       "      <td>13 : 30</td>\n",
       "      <td>Arsenal</td>\n",
       "    </tr>\n",
       "    <tr>\n",
       "      <th>7</th>\n",
       "      <td>11/02/23</td>\n",
       "      <td>PRL</td>\n",
       "      <td>Arsenal</td>\n",
       "      <td>16 : 00</td>\n",
       "      <td>Brentford</td>\n",
       "    </tr>\n",
       "    <tr>\n",
       "      <th>8</th>\n",
       "      <td>15/02/23</td>\n",
       "      <td>PRL</td>\n",
       "      <td>Arsenal</td>\n",
       "      <td>20 : 30</td>\n",
       "      <td>Manchester City</td>\n",
       "    </tr>\n",
       "    <tr>\n",
       "      <th>9</th>\n",
       "      <td>18/02/23</td>\n",
       "      <td>PRL</td>\n",
       "      <td>Aston Villa</td>\n",
       "      <td>13 : 30</td>\n",
       "      <td>Arsenal</td>\n",
       "    </tr>\n",
       "  </tbody>\n",
       "</table>\n",
       "</div>"
      ],
      "text/plain": [
       "       Date League               Home team    Score          Away team\n",
       "0  31/12/22    PRL  Brighton & Hove Albion    2 - 4            Arsenal\n",
       "1  03/01/23    PRL                 Arsenal    0 - 0   Newcastle United\n",
       "2  09/01/23    FAC           Oxford United    0 - 3            Arsenal\n",
       "3  15/01/23    PRL       Tottenham Hotspur    0 - 2            Arsenal\n",
       "4  22/01/23    PRL                 Arsenal    3 - 2  Manchester United\n",
       "5  27/01/23    FAC         Manchester City  21 : 00            Arsenal\n",
       "6  04/02/23    PRL                 Everton  13 : 30            Arsenal\n",
       "7  11/02/23    PRL                 Arsenal  16 : 00          Brentford\n",
       "8  15/02/23    PRL                 Arsenal  20 : 30    Manchester City\n",
       "9  18/02/23    PRL             Aston Villa  13 : 30            Arsenal"
      ]
     },
     "execution_count": 125,
     "metadata": {},
     "output_type": "execute_result"
    }
   ],
   "source": [
    "df"
   ]
  },
  {
   "cell_type": "code",
   "execution_count": 126,
   "id": "a0bf59d4-9c6d-4288-9396-a2247bde4b9f",
   "metadata": {},
   "outputs": [],
   "source": [
    "class Match():\n",
    "    '''\n",
    "    Match Webscraping and Analysis.\n",
    "    Scraping Matches and\n",
    "\n",
    "    Parameters\n",
    "    ----------\n",
    "    agent : string, default= Mozilla/5.0 (Windows NT 10.0; Windows; x64) AppleWebKit/537.36 (KHTML, like Gecko) Chrome/103.0.5060.114 Safari/537.36\n",
    "        a characteristic string that lets servers and network peers identify the application,\n",
    "        operating system, vendor, and/or version of the requesting user agent.\n",
    "\n",
    "    '''\n",
    "\n",
    "    def __init__(self,\n",
    "                 agent='Mozilla/5.0 (Windows NT 10.0; Windows; x64) AppleWebKit/537.36 (KHTML, like Gecko) Chrome/103.0.5060.114 Safari/537.36'):\n",
    "        self.agent = agent\n",
    "\n",
    "    def last_fixtures(self, team, league):\n",
    "        '''\n",
    "        Obtain last 5 fixtures\n",
    "\n",
    "        Parameters\n",
    "        ----------\n",
    "        team : string,\n",
    "            name of team\n",
    "        \n",
    "        league : string,\n",
    "            name of league\n",
    "\n",
    "        Returns\n",
    "        -------\n",
    "        C : dict\n",
    "            Returns last 5 fixtures\n",
    "\n",
    "        '''\n",
    "        url = team_df[(team_df['Team'] == team) & (team_df['League'] == league)]['url'].values[0]\n",
    "        response = requests.get(url, headers={'User-Agent': self.agent})\n",
    "        \n",
    "        try:\n",
    "            soup = BeautifulSoup(response.text, 'html.parser')\n",
    "            table = soup.find_all('table', class_='matches')\n",
    "            dates = [row.text for row in table[0].find_all('td', class_ = \"full-date\")]\n",
    "            leagues = [row.text.strip() for row in table[0].find_all('td', class_=\"competition\")]\n",
    "            homes = [row.text.strip() for row in table[0].find_all('td', class_ = \"team\")[::2]]\n",
    "            aways = [row.text.strip() for row in table[0].find_all('td', class_ = \"team\")[1::2]]\n",
    "            scores = [row.text.strip() for row in table[0].find_all('td', class_=\"score-time\")]\n",
    "            \n",
    "            # Create Empty dataframe\n",
    "            df = pd.DataFrame({'Date': dates,\n",
    "                                'League': leagues,\n",
    "                                'Home team': homes,\n",
    "                                'Score': scores,\n",
    "                                'Away team': aways\n",
    "                                })\n",
    "            \n",
    "            return df[:5], df[5:]\n",
    "        except ImportError:\n",
    "            return ('incorect teamname, country or both')"
   ]
  },
  {
   "cell_type": "code",
   "execution_count": 4,
   "id": "c89cb665-b729-4e38-ace1-b80ae1766e74",
   "metadata": {},
   "outputs": [
    {
     "data": {
      "text/html": [
       "<div>\n",
       "<style scoped>\n",
       "    .dataframe tbody tr th:only-of-type {\n",
       "        vertical-align: middle;\n",
       "    }\n",
       "\n",
       "    .dataframe tbody tr th {\n",
       "        vertical-align: top;\n",
       "    }\n",
       "\n",
       "    .dataframe thead th {\n",
       "        text-align: right;\n",
       "    }\n",
       "</style>\n",
       "<table border=\"1\" class=\"dataframe\">\n",
       "  <thead>\n",
       "    <tr style=\"text-align: right;\">\n",
       "      <th></th>\n",
       "      <th>Country</th>\n",
       "      <th>League</th>\n",
       "      <th>Team</th>\n",
       "      <th>url</th>\n",
       "    </tr>\n",
       "  </thead>\n",
       "  <tbody>\n",
       "    <tr>\n",
       "      <th>0</th>\n",
       "      <td>England</td>\n",
       "      <td>Premier League</td>\n",
       "      <td>Arsenal</td>\n",
       "      <td>https://ng.soccerway.com//teams/england/arsena...</td>\n",
       "    </tr>\n",
       "  </tbody>\n",
       "</table>\n",
       "</div>"
      ],
      "text/plain": [
       "   Country          League     Team  \\\n",
       "0  England  Premier League  Arsenal   \n",
       "\n",
       "                                                 url  \n",
       "0  https://ng.soccerway.com//teams/england/arsena...  "
      ]
     },
     "execution_count": 4,
     "metadata": {},
     "output_type": "execute_result"
    }
   ],
   "source": [
    "select_df = team_df[team_df['Team'] == 'Arsenal']\n",
    "select_df"
   ]
  },
  {
   "cell_type": "code",
   "execution_count": 5,
   "id": "b1d17f16-1790-4aee-b9f6-5761517a2887",
   "metadata": {},
   "outputs": [
    {
     "data": {
      "text/plain": [
       "['Premier League']"
      ]
     },
     "execution_count": 5,
     "metadata": {},
     "output_type": "execute_result"
    }
   ],
   "source": [
    "league = select_df['League'].tolist()\n",
    "league"
   ]
  },
  {
   "cell_type": "code",
   "execution_count": 127,
   "id": "42a1cb29-deb9-4657-8fd5-c4c79e9f847f",
   "metadata": {},
   "outputs": [],
   "source": [
    "matches = Match()\n",
    "last_5, next_5 = matches.last_fixtures('Getafe', 'La Liga')"
   ]
  },
  {
   "cell_type": "code",
   "execution_count": 128,
   "id": "d22f960f-f027-41a4-9460-dc37695dc04e",
   "metadata": {},
   "outputs": [
    {
     "data": {
      "text/html": [
       "<div>\n",
       "<style scoped>\n",
       "    .dataframe tbody tr th:only-of-type {\n",
       "        vertical-align: middle;\n",
       "    }\n",
       "\n",
       "    .dataframe tbody tr th {\n",
       "        vertical-align: top;\n",
       "    }\n",
       "\n",
       "    .dataframe thead th {\n",
       "        text-align: right;\n",
       "    }\n",
       "</style>\n",
       "<table border=\"1\" class=\"dataframe\">\n",
       "  <thead>\n",
       "    <tr style=\"text-align: right;\">\n",
       "      <th></th>\n",
       "      <th>Date</th>\n",
       "      <th>League</th>\n",
       "      <th>Home team</th>\n",
       "      <th>Score</th>\n",
       "      <th>Away team</th>\n",
       "    </tr>\n",
       "  </thead>\n",
       "  <tbody>\n",
       "    <tr>\n",
       "      <th>1</th>\n",
       "      <td>30/12/22</td>\n",
       "      <td>LAL</td>\n",
       "      <td>Getafe</td>\n",
       "      <td>2 - 0</td>\n",
       "      <td>Mallorca</td>\n",
       "    </tr>\n",
       "    <tr>\n",
       "      <th>2</th>\n",
       "      <td>03/01/23</td>\n",
       "      <td>CDR</td>\n",
       "      <td>Levante</td>\n",
       "      <td>3 - 2</td>\n",
       "      <td>Getafe</td>\n",
       "    </tr>\n",
       "    <tr>\n",
       "      <th>3</th>\n",
       "      <td>08/01/23</td>\n",
       "      <td>LAL</td>\n",
       "      <td>Sevilla</td>\n",
       "      <td>2 - 1</td>\n",
       "      <td>Getafe</td>\n",
       "    </tr>\n",
       "    <tr>\n",
       "      <th>4</th>\n",
       "      <td>15/01/23</td>\n",
       "      <td>LAL</td>\n",
       "      <td>Getafe</td>\n",
       "      <td>1 - 2</td>\n",
       "      <td>Espanyol</td>\n",
       "    </tr>\n",
       "    <tr>\n",
       "      <th>5</th>\n",
       "      <td>22/01/23</td>\n",
       "      <td>LAL</td>\n",
       "      <td>Barcelona</td>\n",
       "      <td>1 - 0</td>\n",
       "      <td>Getafe</td>\n",
       "    </tr>\n",
       "  </tbody>\n",
       "</table>\n",
       "</div>"
      ],
      "text/plain": [
       "       Date League  Home team  Score Away team\n",
       "1  30/12/22    LAL     Getafe  2 - 0  Mallorca\n",
       "2  03/01/23    CDR    Levante  3 - 2    Getafe\n",
       "3  08/01/23    LAL    Sevilla  2 - 1    Getafe\n",
       "4  15/01/23    LAL     Getafe  1 - 2  Espanyol\n",
       "5  22/01/23    LAL  Barcelona  1 - 0    Getafe"
      ]
     },
     "execution_count": 128,
     "metadata": {},
     "output_type": "execute_result"
    }
   ],
   "source": [
    "last_5.index = np.arange(1, len(last_5) + 1)\n",
    "last_5"
   ]
  },
  {
   "cell_type": "code",
   "execution_count": 129,
   "id": "6d037803-54eb-46b1-996c-96b10927b62d",
   "metadata": {},
   "outputs": [
    {
     "data": {
      "text/html": [
       "<div>\n",
       "<style scoped>\n",
       "    .dataframe tbody tr th:only-of-type {\n",
       "        vertical-align: middle;\n",
       "    }\n",
       "\n",
       "    .dataframe tbody tr th {\n",
       "        vertical-align: top;\n",
       "    }\n",
       "\n",
       "    .dataframe thead th {\n",
       "        text-align: right;\n",
       "    }\n",
       "</style>\n",
       "<table border=\"1\" class=\"dataframe\">\n",
       "  <thead>\n",
       "    <tr style=\"text-align: right;\">\n",
       "      <th></th>\n",
       "      <th>Date</th>\n",
       "      <th>League</th>\n",
       "      <th>Home team</th>\n",
       "      <th>Score</th>\n",
       "      <th>Away team</th>\n",
       "    </tr>\n",
       "  </thead>\n",
       "  <tbody>\n",
       "    <tr>\n",
       "      <th>1</th>\n",
       "      <td>28/01/23</td>\n",
       "      <td>LAL</td>\n",
       "      <td>Getafe</td>\n",
       "      <td>21 : 00</td>\n",
       "      <td>Real Betis</td>\n",
       "    </tr>\n",
       "    <tr>\n",
       "      <th>2</th>\n",
       "      <td>04/02/23</td>\n",
       "      <td>LAL</td>\n",
       "      <td>Atletico Madrid</td>\n",
       "      <td>18 : 30</td>\n",
       "      <td>Getafe</td>\n",
       "    </tr>\n",
       "    <tr>\n",
       "      <th>3</th>\n",
       "      <td>12/02/23</td>\n",
       "      <td>LAL</td>\n",
       "      <td>Getafe</td>\n",
       "      <td>14 : 00</td>\n",
       "      <td>Rayo Vallecano</td>\n",
       "    </tr>\n",
       "    <tr>\n",
       "      <th>4</th>\n",
       "      <td>19/02/23</td>\n",
       "      <td>LAL</td>\n",
       "      <td>Getafe</td>\n",
       "      <td>-</td>\n",
       "      <td>Valencia</td>\n",
       "    </tr>\n",
       "    <tr>\n",
       "      <th>5</th>\n",
       "      <td>26/02/23</td>\n",
       "      <td>LAL</td>\n",
       "      <td>Villarreal</td>\n",
       "      <td>-</td>\n",
       "      <td>Getafe</td>\n",
       "    </tr>\n",
       "  </tbody>\n",
       "</table>\n",
       "</div>"
      ],
      "text/plain": [
       "       Date League        Home team    Score       Away team\n",
       "1  28/01/23    LAL           Getafe  21 : 00      Real Betis\n",
       "2  04/02/23    LAL  Atletico Madrid  18 : 30          Getafe\n",
       "3  12/02/23    LAL           Getafe  14 : 00  Rayo Vallecano\n",
       "4  19/02/23    LAL           Getafe        -        Valencia\n",
       "5  26/02/23    LAL       Villarreal        -          Getafe"
      ]
     },
     "execution_count": 129,
     "metadata": {},
     "output_type": "execute_result"
    }
   ],
   "source": [
    "next_5.rename(columns={'Outcome':'Time'}, inplace=True)\n",
    "next_5.index = np.arange(1, len(next_5) + 1)\n",
    "next_5"
   ]
  },
  {
   "cell_type": "code",
   "execution_count": null,
   "id": "be62f400-1b6f-470c-9f08-6309ac5dce69",
   "metadata": {},
   "outputs": [],
   "source": []
  }
 ],
 "metadata": {
  "kernelspec": {
   "display_name": "Python 3 (ipykernel)",
   "language": "python",
   "name": "python3"
  },
  "language_info": {
   "codemirror_mode": {
    "name": "ipython",
    "version": 3
   },
   "file_extension": ".py",
   "mimetype": "text/x-python",
   "name": "python",
   "nbconvert_exporter": "python",
   "pygments_lexer": "ipython3",
   "version": "3.9.12"
  }
 },
 "nbformat": 4,
 "nbformat_minor": 5
}
